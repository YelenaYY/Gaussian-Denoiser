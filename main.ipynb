{
 "cells": [
  {
   "cell_type": "code",
   "execution_count": 1,
   "id": "270ab56f-9f2f-4b94-ba79-64c571d1caec",
   "metadata": {},
   "outputs": [
    {
     "name": "stdout",
     "output_type": "stream",
     "text": [
      "CUDA available: True\n"
     ]
    }
   ],
   "source": [
    "import torch\n",
    "\n",
    "# Check if cuda device is available\n",
    "print(\"CUDA available:\", torch.cuda.is_available())\n"
   ]
  },
  {
   "cell_type": "code",
   "execution_count": null,
   "id": "05986864-da93-41d6-879f-4ff77770832b",
   "metadata": {},
   "outputs": [],
   "source": [
    "# Load dataset\n",
    "from torch.utils.data.dataset import Dataset  # noqa:E402\n",
    "from torchvision.io import decode_jpeg  # noqa:E402\n",
    "from pathlib import Path  # noqa:E402\n"
   ]
  },
  {
   "cell_type": "code",
   "execution_count": null,
   "id": "cfa18854-615e-464b-b0e0-a9e2b83f928a",
   "metadata": {},
   "outputs": [],
   "source": [
    "#\n",
    "#\n",
    "\n",
    "\n",
    "class Bsd300(Dataset):\n",
    "    def __init__(self, data_folder, transform=None):\n",
    "        self.data_folder = Path(data_folder)\n",
    "        self.transform = transform\n",
    "        self.labels = []\n",
    "        with open(self.data_folder / \"images/iids_train.txt\") as f:\n",
    "            self.labels = f.readlines()\n",
    "        if len(self.labels) == 0:\n",
    "            print(\"No labels found in\", data_folder)\n",
    "\n",
    "        pass\n",
    "\n",
    "    def __len__(self):\n",
    "        return len(self.labels)\n",
    "\n",
    "    def __getitem__(self, idx):\n",
    "        label = self.labels[idx]\n",
    "        img_name = self.data_folder / f\"/images/train/{label.strip()}.jpg\"\n",
    "        image = decode_jpeg(str(img_name))\n",
    "        if self.transform:\n",
    "            image = self.transform(image)\n",
    "        return image, label\n",
    "\n",
    "\n",
    "# load from ./data/BSDS300/images/train/"
   ]
  }
 ],
 "metadata": {
  "kernelspec": {
   "display_name": "cs7140_project_1",
   "language": "python",
   "name": "cs7140_project_1"
  },
  "language_info": {
   "codemirror_mode": {
    "name": "ipython",
    "version": 3
   },
   "file_extension": ".py",
   "mimetype": "text/x-python",
   "name": "python",
   "nbconvert_exporter": "python",
   "pygments_lexer": "ipython3",
   "version": "3.12.10"
  }
 },
 "nbformat": 4,
 "nbformat_minor": 5
}
